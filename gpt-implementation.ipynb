{
  "nbformat": 4,
  "nbformat_minor": 0,
  "metadata": {
    "colab": {
      "provenance": [],
      "toc_visible": true,
      "authorship_tag": "ABX9TyOAVqqnvqgeyH4tWswVHc26",
      "include_colab_link": true
    },
    "kernelspec": {
      "name": "python3",
      "display_name": "Python 3"
    },
    "language_info": {
      "name": "python"
    }
  },
  "cells": [
    {
      "cell_type": "markdown",
      "metadata": {
        "id": "view-in-github",
        "colab_type": "text"
      },
      "source": [
        "<a href=\"https://colab.research.google.com/github/minerado/ml/blob/main/gpt-implementation.ipynb\" target=\"_parent\"><img src=\"https://colab.research.google.com/assets/colab-badge.svg\" alt=\"Open In Colab\"/></a>"
      ]
    },
    {
      "cell_type": "markdown",
      "source": [
        "# GPT Implementation"
      ],
      "metadata": {
        "id": "dJguYlkfDyxa"
      }
    },
    {
      "cell_type": "markdown",
      "source": [
        "This implementation is based on Andej Karpathy's tutorial [Let's build GPT](https://www.youtube.com/watch?v=kCc8FmEb1nY)"
      ],
      "metadata": {
        "id": "2ao2YoeLD3Db"
      }
    },
    {
      "cell_type": "markdown",
      "source": [
        "For this exercise, we'll be using the tinyshakespare data as vocabulary:"
      ],
      "metadata": {
        "id": "hTa9DEOmEknJ"
      }
    },
    {
      "cell_type": "code",
      "execution_count": 27,
      "metadata": {
        "id": "ixO6WJ5cCzPE"
      },
      "outputs": [],
      "source": [
        "# Fetch and save data\n",
        "!wget -q https://raw.githubusercontent.com/karpathy/char-rnn/master/data/tinyshakespeare/input.txt"
      ]
    },
    {
      "cell_type": "code",
      "source": [
        "with open('input.txt', 'r') as f:\n",
        "    text = f.read()"
      ],
      "metadata": {
        "id": "3ErmR2KBDS6F"
      },
      "execution_count": 28,
      "outputs": []
    },
    {
      "cell_type": "code",
      "source": [
        "print(f\"Length of dataset: {len(text)} characters\")"
      ],
      "metadata": {
        "colab": {
          "base_uri": "https://localhost:8080/"
        },
        "id": "2s88zCPJDvP9",
        "outputId": "74cb66e5-6fe8-41bf-e640-e431ef4b52a7"
      },
      "execution_count": 29,
      "outputs": [
        {
          "output_type": "stream",
          "name": "stdout",
          "text": [
            "Length of dataset: 1115394 characters\n"
          ]
        }
      ]
    },
    {
      "cell_type": "code",
      "source": [
        "# Let's inspect it\n",
        "print(text[:1000])"
      ],
      "metadata": {
        "colab": {
          "base_uri": "https://localhost:8080/"
        },
        "id": "bMEzzBCSFLo8",
        "outputId": "ef4b8647-95d7-48d7-f12f-d3aa7804e6f9"
      },
      "execution_count": 30,
      "outputs": [
        {
          "output_type": "stream",
          "name": "stdout",
          "text": [
            "First Citizen:\n",
            "Before we proceed any further, hear me speak.\n",
            "\n",
            "All:\n",
            "Speak, speak.\n",
            "\n",
            "First Citizen:\n",
            "You are all resolved rather to die than to famish?\n",
            "\n",
            "All:\n",
            "Resolved. resolved.\n",
            "\n",
            "First Citizen:\n",
            "First, you know Caius Marcius is chief enemy to the people.\n",
            "\n",
            "All:\n",
            "We know't, we know't.\n",
            "\n",
            "First Citizen:\n",
            "Let us kill him, and we'll have corn at our own price.\n",
            "Is't a verdict?\n",
            "\n",
            "All:\n",
            "No more talking on't; let it be done: away, away!\n",
            "\n",
            "Second Citizen:\n",
            "One word, good citizens.\n",
            "\n",
            "First Citizen:\n",
            "We are accounted poor citizens, the patricians good.\n",
            "What authority surfeits on would relieve us: if they\n",
            "would yield us but the superfluity, while it were\n",
            "wholesome, we might guess they relieved us humanely;\n",
            "but they think we are too dear: the leanness that\n",
            "afflicts us, the object of our misery, is as an\n",
            "inventory to particularise their abundance; our\n",
            "sufferance is a gain to them Let us revenge this with\n",
            "our pikes, ere we become rakes: for the gods know I\n",
            "speak this in hunger for bread, not in thirst for revenge.\n",
            "\n",
            "\n"
          ]
        }
      ]
    },
    {
      "cell_type": "markdown",
      "source": [
        "## Build the vocabulary"
      ],
      "metadata": {
        "id": "AM3Jgpt5uqqM"
      }
    },
    {
      "cell_type": "code",
      "source": [
        "# Unique characters to appear in the data\n",
        "chars = sorted(set(text))\n",
        "vocab_size = len(chars)\n",
        "\n",
        "print(f\"Vocabulary: {''.join(chars)}\")\n",
        "print(f\"Vocabulary size: {vocab_size}\")"
      ],
      "metadata": {
        "colab": {
          "base_uri": "https://localhost:8080/"
        },
        "id": "q-z0BdE_FdRA",
        "outputId": "236575d9-8999-4dd6-9179-6c9b064a903d"
      },
      "execution_count": 31,
      "outputs": [
        {
          "output_type": "stream",
          "name": "stdout",
          "text": [
            "Vocabulary: \n",
            " !$&',-.3:;?ABCDEFGHIJKLMNOPQRSTUVWXYZabcdefghijklmnopqrstuvwxyz\n",
            "Vocabulary size: 65\n"
          ]
        }
      ]
    },
    {
      "cell_type": "markdown",
      "source": [
        "## Encoding/Decoding functions"
      ],
      "metadata": {
        "id": "b8qsh-mguzSz"
      }
    },
    {
      "cell_type": "code",
      "source": [
        "# Create mapping from characters to integers\n",
        "char_dict = {char: i for i, char in enumerate(chars)}\n",
        "index_dict = {i: char for i, char in enumerate(chars)}\n",
        "\n",
        "def encode(s): return [char_dict[c] for c in s]\n",
        "def decode(lst): return ''.join([index_dict[i] for i in lst])"
      ],
      "metadata": {
        "id": "z5F_0tcWGstF"
      },
      "execution_count": 32,
      "outputs": []
    },
    {
      "cell_type": "code",
      "source": [
        "decode(encode(\"hello world\"))"
      ],
      "metadata": {
        "colab": {
          "base_uri": "https://localhost:8080/",
          "height": 35
        },
        "id": "sTirUpUdHfO1",
        "outputId": "da576f12-acd1-4335-805b-0c8725db759a"
      },
      "execution_count": 33,
      "outputs": [
        {
          "output_type": "execute_result",
          "data": {
            "text/plain": [
              "'hello world'"
            ],
            "application/vnd.google.colaboratory.intrinsic+json": {
              "type": "string"
            }
          },
          "metadata": {},
          "execution_count": 33
        }
      ]
    },
    {
      "cell_type": "markdown",
      "source": [
        "## Build data for training"
      ],
      "metadata": {
        "id": "x71Z7uAru-tY"
      }
    },
    {
      "cell_type": "code",
      "source": [
        "# Let's now encode the entire text and store it into a tensor\n",
        "import torch\n",
        "\n",
        "data = torch.tensor(encode(text), dtype=torch.long)\n",
        "print(data.shape, data.dtype)\n",
        "print(data[:100])"
      ],
      "metadata": {
        "colab": {
          "base_uri": "https://localhost:8080/"
        },
        "id": "w0U0wbMJJDzq",
        "outputId": "28e6fca9-725a-4b32-c303-eac5be48d887"
      },
      "execution_count": 34,
      "outputs": [
        {
          "output_type": "stream",
          "name": "stdout",
          "text": [
            "torch.Size([1115394]) torch.int64\n",
            "tensor([18, 47, 56, 57, 58,  1, 15, 47, 58, 47, 64, 43, 52, 10,  0, 14, 43, 44,\n",
            "        53, 56, 43,  1, 61, 43,  1, 54, 56, 53, 41, 43, 43, 42,  1, 39, 52, 63,\n",
            "         1, 44, 59, 56, 58, 46, 43, 56,  6,  1, 46, 43, 39, 56,  1, 51, 43,  1,\n",
            "        57, 54, 43, 39, 49,  8,  0,  0, 13, 50, 50, 10,  0, 31, 54, 43, 39, 49,\n",
            "         6,  1, 57, 54, 43, 39, 49,  8,  0,  0, 18, 47, 56, 57, 58,  1, 15, 47,\n",
            "        58, 47, 64, 43, 52, 10,  0, 37, 53, 59])\n"
          ]
        }
      ]
    },
    {
      "cell_type": "code",
      "source": [
        "# Separate train and validation data\n",
        "n = int(0.9*len(data))\n",
        "train_data = data[:n]\n",
        "val_data = data[n:]\n",
        "\n",
        "print(f'Train data shape: {train_data.shape}')\n",
        "print(f'Validation data shape: {val_data.shape}')"
      ],
      "metadata": {
        "colab": {
          "base_uri": "https://localhost:8080/"
        },
        "id": "szmUhtDQHw0e",
        "outputId": "e83dde4c-9e47-4486-8c21-0a91891b3c4d"
      },
      "execution_count": 35,
      "outputs": [
        {
          "output_type": "stream",
          "name": "stdout",
          "text": [
            "Train data shape: torch.Size([1003854])\n",
            "Validation data shape: torch.Size([111540])\n"
          ]
        }
      ]
    },
    {
      "cell_type": "markdown",
      "source": [
        "## Uderstanding block size"
      ],
      "metadata": {
        "id": "H8Q8AspfvHxY"
      }
    },
    {
      "cell_type": "code",
      "source": [
        "## From HuggingFace Docs:\n",
        "## block_size: This is the maximum sequence length or length of one block of text.\n",
        "block_size = 8\n",
        "x = train_data[:block_size]\n",
        "y = train_data[1:block_size+1]\n",
        "\n",
        "for i in range(block_size):\n",
        "  print(f\"Input: {x[:i+1].tolist()}; Target: {y[i]}\")\n",
        "print(x, y)"
      ],
      "metadata": {
        "colab": {
          "base_uri": "https://localhost:8080/"
        },
        "id": "pgpjMEs1Kyd5",
        "outputId": "ee09fe51-8fd4-4aef-84aa-ac487a234065"
      },
      "execution_count": 36,
      "outputs": [
        {
          "output_type": "stream",
          "name": "stdout",
          "text": [
            "Input: [18]; Target: 47\n",
            "Input: [18, 47]; Target: 56\n",
            "Input: [18, 47, 56]; Target: 57\n",
            "Input: [18, 47, 56, 57]; Target: 58\n",
            "Input: [18, 47, 56, 57, 58]; Target: 1\n",
            "Input: [18, 47, 56, 57, 58, 1]; Target: 15\n",
            "Input: [18, 47, 56, 57, 58, 1, 15]; Target: 47\n",
            "Input: [18, 47, 56, 57, 58, 1, 15, 47]; Target: 58\n",
            "tensor([18, 47, 56, 57, 58,  1, 15, 47]) tensor([47, 56, 57, 58,  1, 15, 47, 58])\n"
          ]
        }
      ]
    },
    {
      "cell_type": "code",
      "source": [
        "torch.manual_seed(1337)\n",
        "batch_size = 4\n",
        "block_size = 8\n",
        "\n",
        "\n",
        "def get_batch(data):\n",
        "  random_idxs = torch.randint(len(train_data) - block_size, (batch_size,))\n",
        "  x = torch.stack([data[i:i+block_size] for i in random_idxs])\n",
        "  y = torch.stack([data[i+1:i+block_size+1] for i in random_idxs])\n",
        "\n",
        "  return x, y\n",
        "\n",
        "xb, yb = get_batch(train_data)\n",
        "\n",
        "print(f\"Input shape: {xb.shape}\")\n",
        "print(f\"Input: {xb}\")\n",
        "print(f\"Target shape: {yb.shape}\")\n",
        "print(f\"Target: {yb}\")"
      ],
      "metadata": {
        "colab": {
          "base_uri": "https://localhost:8080/"
        },
        "id": "PBZB7QJZVjHA",
        "outputId": "beb4a9dd-558a-410c-fbeb-411561e55576"
      },
      "execution_count": 37,
      "outputs": [
        {
          "output_type": "stream",
          "name": "stdout",
          "text": [
            "Input shape: torch.Size([4, 8])\n",
            "Input: tensor([[24, 43, 58,  5, 57,  1, 46, 43],\n",
            "        [44, 53, 56,  1, 58, 46, 39, 58],\n",
            "        [52, 58,  1, 58, 46, 39, 58,  1],\n",
            "        [25, 17, 27, 10,  0, 21,  1, 54]])\n",
            "Target shape: torch.Size([4, 8])\n",
            "Target: tensor([[43, 58,  5, 57,  1, 46, 43, 39],\n",
            "        [53, 56,  1, 58, 46, 39, 58,  1],\n",
            "        [58,  1, 58, 46, 39, 58,  1, 46],\n",
            "        [17, 27, 10,  0, 21,  1, 54, 39]])\n"
          ]
        }
      ]
    },
    {
      "cell_type": "code",
      "source": [
        "import torch\n",
        "from torch import nn\n",
        "from torch.nn import functional as F\n",
        "\n",
        "torch.manual_seed(1337)\n",
        "\n",
        "class BigramLanguageModel(nn.Module):\n",
        "  def __init__(self, vocab_size):\n",
        "    super().__init__()\n",
        "    self.embedding_table = nn.Embedding(vocab_size, vocab_size)\n",
        "\n",
        "  def forward(self, i, target=None):\n",
        "    logits = self.embedding_table(i)\n",
        "\n",
        "    if target is None:\n",
        "      loss = None\n",
        "    else:\n",
        "      loss = F.cross_entropy(logits.permute(0, 2, 1), target)\n",
        "\n",
        "    return logits, loss\n",
        "\n",
        "  def generate(self, i, max_new_tokens):\n",
        "    # idx is (B, T) array of indices\n",
        "    for _ in range(max_new_tokens):\n",
        "      # get predictions\n",
        "      logits, loss = self(i)\n",
        "      # focus only on the last time step\n",
        "      logits = logits[:, -1, :]\n",
        "      # apply softmax to get probs\n",
        "      probs = F.softmax(logits, )\n"
      ],
      "metadata": {
        "id": "2NvW2_Ycah_u"
      },
      "execution_count": 83,
      "outputs": []
    },
    {
      "cell_type": "code",
      "source": [
        "bm = BigramLanguageModel(vocab_size)\n",
        "out, loss = bm(xb, yb)\n",
        "print(out.shape)\n",
        "print(loss)"
      ],
      "metadata": {
        "colab": {
          "base_uri": "https://localhost:8080/"
        },
        "id": "DuafEVgrhgLr",
        "outputId": "2c6e0a4a-0ce6-473f-867d-19fb7773bc8a"
      },
      "execution_count": 84,
      "outputs": [
        {
          "output_type": "stream",
          "name": "stdout",
          "text": [
            "torch.Size([4, 8, 65])\n",
            "tensor(4.8786, grad_fn=<NllLoss2DBackward0>)\n"
          ]
        }
      ]
    },
    {
      "cell_type": "code",
      "source": [
        "F.softmax(out, dim=1)\n",
        "\n",
        "print(out)\n",
        "out[:, -1, :]"
      ],
      "metadata": {
        "colab": {
          "base_uri": "https://localhost:8080/"
        },
        "id": "ttXloBXrk1hG",
        "outputId": "41427397-3cdf-4a3b-c1ac-3b987e876152"
      },
      "execution_count": 92,
      "outputs": [
        {
          "output_type": "stream",
          "name": "stdout",
          "text": [
            "tensor([[[-1.5101, -0.0948,  1.0927,  ..., -0.6126, -0.6597,  0.7624],\n",
            "         [ 0.3323, -0.0872, -0.7470,  ..., -0.6716, -0.9572, -0.9594],\n",
            "         [ 0.2475, -0.6349, -1.2909,  ...,  1.3064, -0.2256, -1.8305],\n",
            "         ...,\n",
            "         [ 0.5978, -0.0514, -0.0646,  ..., -1.4649, -2.0555,  1.8275],\n",
            "         [ 1.0901,  0.2170, -2.9996,  ..., -0.5472, -0.8017,  0.7761],\n",
            "         [ 0.3323, -0.0872, -0.7470,  ..., -0.6716, -0.9572, -0.9594]],\n",
            "\n",
            "        [[ 1.0541,  1.5018, -0.5266,  ...,  1.8574,  1.5249,  1.3035],\n",
            "         [-0.1324, -0.5489,  0.1024,  ..., -0.8599, -1.6050, -0.6985],\n",
            "         [-0.6722,  0.2322, -0.1632,  ...,  0.1390,  0.7560,  0.4296],\n",
            "         ...,\n",
            "         [ 1.0901,  0.2170, -2.9996,  ..., -0.5472, -0.8017,  0.7761],\n",
            "         [ 1.1513,  1.0539,  3.4105,  ..., -0.5686,  0.9079, -0.1701],\n",
            "         [ 0.2475, -0.6349, -1.2909,  ...,  1.3064, -0.2256, -1.8305]],\n",
            "\n",
            "        [[-0.2103,  0.4481,  1.2381,  ...,  1.3597, -0.0821,  0.3909],\n",
            "         [ 0.2475, -0.6349, -1.2909,  ...,  1.3064, -0.2256, -1.8305],\n",
            "         [ 0.5978, -0.0514, -0.0646,  ..., -1.4649, -2.0555,  1.8275],\n",
            "         ...,\n",
            "         [ 1.1513,  1.0539,  3.4105,  ..., -0.5686,  0.9079, -0.1701],\n",
            "         [ 0.2475, -0.6349, -1.2909,  ...,  1.3064, -0.2256, -1.8305],\n",
            "         [ 0.5978, -0.0514, -0.0646,  ..., -1.4649, -2.0555,  1.8275]],\n",
            "\n",
            "        [[ 0.0691,  0.2990, -1.4717,  ...,  0.1517,  0.8528,  0.0604],\n",
            "         [-0.4892, -2.5589,  1.4134,  ..., -1.4296,  0.2347, -1.2034],\n",
            "         [-0.1600,  1.3981, -0.7047,  ..., -1.9908,  0.8574, -2.1603],\n",
            "         ...,\n",
            "         [-2.1910, -0.7574,  1.9656,  ..., -0.3580,  0.8585, -0.6161],\n",
            "         [ 0.5978, -0.0514, -0.0646,  ..., -1.4649, -2.0555,  1.8275],\n",
            "         [-0.6787,  0.8662, -1.6433,  ...,  2.3671, -0.7775, -0.2586]]],\n",
            "       grad_fn=<EmbeddingBackward0>)\n"
          ]
        },
        {
          "output_type": "execute_result",
          "data": {
            "text/plain": [
              "tensor([[ 0.3323, -0.0872, -0.7470, -0.6074,  0.3418,  0.5343,  0.3957, -0.4919,\n",
              "         -0.0894, -1.3886,  1.2835, -0.3975,  2.0152,  1.6773, -0.3833,  1.5728,\n",
              "          1.9458,  0.7247, -0.4834, -0.3263,  0.3193, -0.4198, -0.6435, -0.3311,\n",
              "          0.7554, -1.2385,  0.4067,  0.9982, -0.6511,  1.2450,  0.2804,  0.8371,\n",
              "         -0.4119,  0.2115, -0.6240,  0.0203, -0.3418,  1.4934,  1.7307,  1.3354,\n",
              "         -0.2712,  0.4902,  0.6600, -1.6321, -0.7858,  1.7688,  2.6160, -0.5767,\n",
              "         -0.3628, -2.7428,  0.7428,  0.0737,  0.2050, -0.5497,  2.1261, -0.9240,\n",
              "          0.1048,  0.8324,  1.4287, -0.7789,  2.9275, -0.8525, -0.6716, -0.9572,\n",
              "         -0.9594],\n",
              "        [ 0.2475, -0.6349, -1.2909,  1.1822,  0.1479, -0.4333, -0.8269,  0.0728,\n",
              "         -1.2982,  0.3960, -1.2460,  0.1458, -0.5699, -1.3561, -0.3812, -0.8515,\n",
              "          1.1918, -0.8108, -0.1733, -0.4703, -0.6000, -1.3636, -1.0889,  1.0108,\n",
              "          0.8543, -0.0441,  1.8017,  0.6014, -2.5448, -0.4865,  2.6412,  1.6053,\n",
              "          0.5901,  0.8137, -0.1124, -0.3050,  1.1426,  0.6637, -0.7000,  0.9262,\n",
              "         -1.1032, -1.2125,  0.6065,  0.5882, -0.5453,  0.7654,  0.5692,  0.8859,\n",
              "         -0.0700,  0.6792, -0.0283, -1.2243, -1.7192,  1.4801,  0.9587, -0.0338,\n",
              "          0.5083, -0.2502,  2.0734, -0.2994,  0.0473, -0.9626,  1.3064, -0.2256,\n",
              "         -1.8305],\n",
              "        [ 0.5978, -0.0514, -0.0646, -0.4970,  0.4658, -0.2573, -1.0673,  2.0089,\n",
              "         -0.5370,  0.2228,  0.6971, -1.4267,  0.9059,  0.1446,  0.2280,  2.4900,\n",
              "         -1.2237,  1.0107,  0.5560, -1.5935, -1.2706,  0.6903, -0.1961,  0.3449,\n",
              "         -0.3419,  0.4759, -0.7663, -0.4190, -0.4370, -1.0012, -0.4094, -1.6669,\n",
              "         -1.3651, -0.1655,  0.9623,  0.0315, -0.7419, -0.2978,  0.0172, -0.1772,\n",
              "         -0.1334,  0.2940,  1.3850,  0.1209,  2.5418, -0.6405, -1.9740, -0.3296,\n",
              "          0.0080,  0.9262, -1.8846,  0.1670,  0.4586, -1.7662,  0.5860,  1.7510,\n",
              "          0.2807,  0.3110, -0.6538, -0.6576,  0.3184, -0.5496, -1.4649, -2.0555,\n",
              "          1.8275],\n",
              "        [-0.6787,  0.8662, -1.6433,  1.9448, -0.1631, -0.1714,  0.9309, -0.8550,\n",
              "          0.7524,  0.2626, -1.3360, -0.9757, -0.5134,  0.7116, -0.0196,  0.4353,\n",
              "          0.8279,  0.5487, -0.4363,  0.5519,  0.6782,  0.2535,  1.6661, -0.6964,\n",
              "         -0.3170,  0.8487,  0.4341, -0.2240, -1.0157, -0.1161,  0.2876,  0.4203,\n",
              "          0.3379,  0.8016, -0.1731,  0.5809,  0.1622,  1.3970,  0.3307,  0.2771,\n",
              "          0.7410,  0.2727,  0.2346, -0.1117, -0.5691,  1.1829,  1.9441, -0.4155,\n",
              "         -0.3620, -0.1765, -0.9348,  1.5461, -0.8577, -0.1006,  0.3560, -1.6589,\n",
              "          0.6543, -1.3299,  1.1929,  0.4855, -0.5721,  1.0813,  2.3671, -0.7775,\n",
              "         -0.2586]], grad_fn=<SliceBackward0>)"
            ]
          },
          "metadata": {},
          "execution_count": 92
        }
      ]
    },
    {
      "cell_type": "code",
      "source": [
        "1"
      ],
      "metadata": {
        "id": "zG9G0QkD45U_"
      },
      "execution_count": null,
      "outputs": []
    }
  ]
}