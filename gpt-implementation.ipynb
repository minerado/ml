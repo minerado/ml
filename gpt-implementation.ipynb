{
  "nbformat": 4,
  "nbformat_minor": 0,
  "metadata": {
    "colab": {
      "provenance": [],
      "toc_visible": true,
      "authorship_tag": "ABX9TyOGEB7kDomalNCGTDq4C425",
      "include_colab_link": true
    },
    "kernelspec": {
      "name": "python3",
      "display_name": "Python 3"
    },
    "language_info": {
      "name": "python"
    }
  },
  "cells": [
    {
      "cell_type": "markdown",
      "metadata": {
        "id": "view-in-github",
        "colab_type": "text"
      },
      "source": [
        "<a href=\"https://colab.research.google.com/github/minerado/ml/blob/main/gpt-implementation.ipynb\" target=\"_parent\"><img src=\"https://colab.research.google.com/assets/colab-badge.svg\" alt=\"Open In Colab\"/></a>"
      ]
    },
    {
      "cell_type": "markdown",
      "source": [
        "# GPT Implementation"
      ],
      "metadata": {
        "id": "dJguYlkfDyxa"
      }
    },
    {
      "cell_type": "markdown",
      "source": [
        "This implementation is based on Andej Karpathy's tutorial [Let's build GPT](https://www.youtube.com/watch?v=kCc8FmEb1nY)"
      ],
      "metadata": {
        "id": "2ao2YoeLD3Db"
      }
    },
    {
      "cell_type": "markdown",
      "source": [
        "For this exercise, we'll be using the tinyshakespare data as vocabulary:"
      ],
      "metadata": {
        "id": "hTa9DEOmEknJ"
      }
    },
    {
      "cell_type": "code",
      "execution_count": 27,
      "metadata": {
        "id": "ixO6WJ5cCzPE"
      },
      "outputs": [],
      "source": [
        "# Fetch and save data\n",
        "!wget -q https://raw.githubusercontent.com/karpathy/char-rnn/master/data/tinyshakespeare/input.txt"
      ]
    },
    {
      "cell_type": "code",
      "source": [
        "with open('input.txt', 'r') as f:\n",
        "    text = f.read()"
      ],
      "metadata": {
        "id": "3ErmR2KBDS6F"
      },
      "execution_count": 28,
      "outputs": []
    },
    {
      "cell_type": "code",
      "source": [
        "print(f\"Length of dataset: {len(text)} characters\")"
      ],
      "metadata": {
        "colab": {
          "base_uri": "https://localhost:8080/"
        },
        "id": "2s88zCPJDvP9",
        "outputId": "74cb66e5-6fe8-41bf-e640-e431ef4b52a7"
      },
      "execution_count": 29,
      "outputs": [
        {
          "output_type": "stream",
          "name": "stdout",
          "text": [
            "Length of dataset: 1115394 characters\n"
          ]
        }
      ]
    },
    {
      "cell_type": "code",
      "source": [
        "# Let's inspect it\n",
        "print(text[:1000])"
      ],
      "metadata": {
        "colab": {
          "base_uri": "https://localhost:8080/"
        },
        "id": "bMEzzBCSFLo8",
        "outputId": "ef4b8647-95d7-48d7-f12f-d3aa7804e6f9"
      },
      "execution_count": 30,
      "outputs": [
        {
          "output_type": "stream",
          "name": "stdout",
          "text": [
            "First Citizen:\n",
            "Before we proceed any further, hear me speak.\n",
            "\n",
            "All:\n",
            "Speak, speak.\n",
            "\n",
            "First Citizen:\n",
            "You are all resolved rather to die than to famish?\n",
            "\n",
            "All:\n",
            "Resolved. resolved.\n",
            "\n",
            "First Citizen:\n",
            "First, you know Caius Marcius is chief enemy to the people.\n",
            "\n",
            "All:\n",
            "We know't, we know't.\n",
            "\n",
            "First Citizen:\n",
            "Let us kill him, and we'll have corn at our own price.\n",
            "Is't a verdict?\n",
            "\n",
            "All:\n",
            "No more talking on't; let it be done: away, away!\n",
            "\n",
            "Second Citizen:\n",
            "One word, good citizens.\n",
            "\n",
            "First Citizen:\n",
            "We are accounted poor citizens, the patricians good.\n",
            "What authority surfeits on would relieve us: if they\n",
            "would yield us but the superfluity, while it were\n",
            "wholesome, we might guess they relieved us humanely;\n",
            "but they think we are too dear: the leanness that\n",
            "afflicts us, the object of our misery, is as an\n",
            "inventory to particularise their abundance; our\n",
            "sufferance is a gain to them Let us revenge this with\n",
            "our pikes, ere we become rakes: for the gods know I\n",
            "speak this in hunger for bread, not in thirst for revenge.\n",
            "\n",
            "\n"
          ]
        }
      ]
    },
    {
      "cell_type": "markdown",
      "source": [
        "## Build the vocabulary"
      ],
      "metadata": {
        "id": "AM3Jgpt5uqqM"
      }
    },
    {
      "cell_type": "code",
      "source": [
        "# Unique characters to appear in the data\n",
        "chars = sorted(set(text))\n",
        "vocab_size = len(chars)\n",
        "\n",
        "print(f\"Vocabulary: {''.join(chars)}\")\n",
        "print(f\"Vocabulary size: {vocab_size}\")"
      ],
      "metadata": {
        "colab": {
          "base_uri": "https://localhost:8080/"
        },
        "id": "q-z0BdE_FdRA",
        "outputId": "236575d9-8999-4dd6-9179-6c9b064a903d"
      },
      "execution_count": 31,
      "outputs": [
        {
          "output_type": "stream",
          "name": "stdout",
          "text": [
            "Vocabulary: \n",
            " !$&',-.3:;?ABCDEFGHIJKLMNOPQRSTUVWXYZabcdefghijklmnopqrstuvwxyz\n",
            "Vocabulary size: 65\n"
          ]
        }
      ]
    },
    {
      "cell_type": "markdown",
      "source": [
        "## Encoding/Decoding functions"
      ],
      "metadata": {
        "id": "b8qsh-mguzSz"
      }
    },
    {
      "cell_type": "code",
      "source": [
        "# Create mapping from characters to integers\n",
        "char_dict = {char: i for i, char in enumerate(chars)}\n",
        "index_dict = {i: char for i, char in enumerate(chars)}\n",
        "\n",
        "def encode(s): return [char_dict[c] for c in s]\n",
        "def decode(lst): return ''.join([index_dict[i] for i in lst])"
      ],
      "metadata": {
        "id": "z5F_0tcWGstF"
      },
      "execution_count": 32,
      "outputs": []
    },
    {
      "cell_type": "code",
      "source": [
        "decode(encode(\"hello world\"))"
      ],
      "metadata": {
        "colab": {
          "base_uri": "https://localhost:8080/",
          "height": 35
        },
        "id": "sTirUpUdHfO1",
        "outputId": "da576f12-acd1-4335-805b-0c8725db759a"
      },
      "execution_count": 33,
      "outputs": [
        {
          "output_type": "execute_result",
          "data": {
            "text/plain": [
              "'hello world'"
            ],
            "application/vnd.google.colaboratory.intrinsic+json": {
              "type": "string"
            }
          },
          "metadata": {},
          "execution_count": 33
        }
      ]
    },
    {
      "cell_type": "markdown",
      "source": [
        "## Build data for training"
      ],
      "metadata": {
        "id": "x71Z7uAru-tY"
      }
    },
    {
      "cell_type": "code",
      "source": [
        "# Let's now encode the entire text and store it into a tensor\n",
        "import torch\n",
        "\n",
        "data = torch.tensor(encode(text), dtype=torch.long)\n",
        "print(data.shape, data.dtype)\n",
        "print(data[:100])"
      ],
      "metadata": {
        "id": "w0U0wbMJJDzq",
        "outputId": "28e6fca9-725a-4b32-c303-eac5be48d887",
        "colab": {
          "base_uri": "https://localhost:8080/"
        }
      },
      "execution_count": 34,
      "outputs": [
        {
          "output_type": "stream",
          "name": "stdout",
          "text": [
            "torch.Size([1115394]) torch.int64\n",
            "tensor([18, 47, 56, 57, 58,  1, 15, 47, 58, 47, 64, 43, 52, 10,  0, 14, 43, 44,\n",
            "        53, 56, 43,  1, 61, 43,  1, 54, 56, 53, 41, 43, 43, 42,  1, 39, 52, 63,\n",
            "         1, 44, 59, 56, 58, 46, 43, 56,  6,  1, 46, 43, 39, 56,  1, 51, 43,  1,\n",
            "        57, 54, 43, 39, 49,  8,  0,  0, 13, 50, 50, 10,  0, 31, 54, 43, 39, 49,\n",
            "         6,  1, 57, 54, 43, 39, 49,  8,  0,  0, 18, 47, 56, 57, 58,  1, 15, 47,\n",
            "        58, 47, 64, 43, 52, 10,  0, 37, 53, 59])\n"
          ]
        }
      ]
    },
    {
      "cell_type": "code",
      "source": [
        "# Separate train and validation data\n",
        "n = int(0.9*len(data))\n",
        "train_data = data[:n]\n",
        "val_data = data[n:]\n",
        "\n",
        "print(f'Train data shape: {train_data.shape}')\n",
        "print(f'Validation data shape: {val_data.shape}')"
      ],
      "metadata": {
        "colab": {
          "base_uri": "https://localhost:8080/"
        },
        "id": "szmUhtDQHw0e",
        "outputId": "e83dde4c-9e47-4486-8c21-0a91891b3c4d"
      },
      "execution_count": 35,
      "outputs": [
        {
          "output_type": "stream",
          "name": "stdout",
          "text": [
            "Train data shape: torch.Size([1003854])\n",
            "Validation data shape: torch.Size([111540])\n"
          ]
        }
      ]
    },
    {
      "cell_type": "markdown",
      "source": [
        "## Uderstanding block size"
      ],
      "metadata": {
        "id": "H8Q8AspfvHxY"
      }
    },
    {
      "cell_type": "code",
      "source": [
        "## From HuggingFace Docs:\n",
        "## block_size: This is the maximum sequence length or length of one block of text.\n",
        "block_size = 8\n",
        "x = train_data[:block_size]\n",
        "y = train_data[1:block_size+1]\n",
        "\n",
        "for i in range(block_size):\n",
        "  print(f\"Input: {x[:i+1].tolist()}; Target: {y[i]}\")\n",
        "print(x, y)"
      ],
      "metadata": {
        "id": "pgpjMEs1Kyd5",
        "outputId": "ee09fe51-8fd4-4aef-84aa-ac487a234065",
        "colab": {
          "base_uri": "https://localhost:8080/"
        }
      },
      "execution_count": 36,
      "outputs": [
        {
          "output_type": "stream",
          "name": "stdout",
          "text": [
            "Input: [18]; Target: 47\n",
            "Input: [18, 47]; Target: 56\n",
            "Input: [18, 47, 56]; Target: 57\n",
            "Input: [18, 47, 56, 57]; Target: 58\n",
            "Input: [18, 47, 56, 57, 58]; Target: 1\n",
            "Input: [18, 47, 56, 57, 58, 1]; Target: 15\n",
            "Input: [18, 47, 56, 57, 58, 1, 15]; Target: 47\n",
            "Input: [18, 47, 56, 57, 58, 1, 15, 47]; Target: 58\n",
            "tensor([18, 47, 56, 57, 58,  1, 15, 47]) tensor([47, 56, 57, 58,  1, 15, 47, 58])\n"
          ]
        }
      ]
    },
    {
      "cell_type": "code",
      "source": [
        "torch.manual_seed(1337)\n",
        "batch_size = 4\n",
        "block_size = 8\n",
        "\n",
        "\n",
        "def get_batch(data):\n",
        "  random_idxs = torch.randint(len(train_data) - block_size, (batch_size,))\n",
        "  x = torch.stack([data[i:i+block_size] for i in random_idxs])\n",
        "  y = torch.stack([data[i+1:i+block_size+1] for i in random_idxs])\n",
        "\n",
        "  return x, y\n",
        "\n",
        "xb, yb = get_batch(train_data)\n",
        "\n",
        "print(f\"Input shape: {xb.shape}\")\n",
        "print(f\"Input: {xb}\")\n",
        "print(f\"Target shape: {yb.shape}\")\n",
        "print(f\"Target: {yb}\")"
      ],
      "metadata": {
        "id": "PBZB7QJZVjHA",
        "outputId": "beb4a9dd-558a-410c-fbeb-411561e55576",
        "colab": {
          "base_uri": "https://localhost:8080/"
        }
      },
      "execution_count": 37,
      "outputs": [
        {
          "output_type": "stream",
          "name": "stdout",
          "text": [
            "Input shape: torch.Size([4, 8])\n",
            "Input: tensor([[24, 43, 58,  5, 57,  1, 46, 43],\n",
            "        [44, 53, 56,  1, 58, 46, 39, 58],\n",
            "        [52, 58,  1, 58, 46, 39, 58,  1],\n",
            "        [25, 17, 27, 10,  0, 21,  1, 54]])\n",
            "Target shape: torch.Size([4, 8])\n",
            "Target: tensor([[43, 58,  5, 57,  1, 46, 43, 39],\n",
            "        [53, 56,  1, 58, 46, 39, 58,  1],\n",
            "        [58,  1, 58, 46, 39, 58,  1, 46],\n",
            "        [17, 27, 10,  0, 21,  1, 54, 39]])\n"
          ]
        }
      ]
    },
    {
      "cell_type": "code",
      "source": [
        "import torch\n",
        "from torch import nn\n",
        "from torch.nn import functional as F\n",
        "\n",
        "torch.manual_seed(1337)\n",
        "\n",
        "class BigramLanguageModel(nn.Module):\n",
        "  def __init__(self, vocab_size):\n",
        "    super().__init__()\n",
        "    self.embedding_table = nn.Embedding(vocab_size, vocab_size)\n",
        "\n",
        "  def forward(self, i, target):\n",
        "    logits = self.embedding_table(i)\n",
        "\n",
        "    loss = F.cross_entropy(logits.permute(0, 2, 1), target)\n",
        "\n",
        "    return logits, loss"
      ],
      "metadata": {
        "id": "2NvW2_Ycah_u"
      },
      "execution_count": 80,
      "outputs": []
    },
    {
      "cell_type": "code",
      "source": [
        "bm = BigramLanguageModel(vocab_size)\n",
        "out, loss = bm(xb, yb)\n",
        "print(out.shape)\n",
        "print(loss)"
      ],
      "metadata": {
        "id": "DuafEVgrhgLr",
        "outputId": "c77fd4b5-5d0b-4616-80ff-0e5cbeb5bbfd",
        "colab": {
          "base_uri": "https://localhost:8080/"
        }
      },
      "execution_count": 81,
      "outputs": [
        {
          "output_type": "stream",
          "name": "stdout",
          "text": [
            "torch.Size([4, 8, 65])\n",
            "tensor(4.8786, grad_fn=<NllLoss2DBackward0>)\n"
          ]
        }
      ]
    },
    {
      "cell_type": "code",
      "source": [
        "# I'm stopping to study more about generation"
      ],
      "metadata": {
        "id": "ttXloBXrk1hG"
      },
      "execution_count": 82,
      "outputs": []
    }
  ]
}